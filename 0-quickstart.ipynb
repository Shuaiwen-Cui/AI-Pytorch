{
 "cells": [
  {
   "cell_type": "markdown",
   "metadata": {},
   "source": [
    "# QUICK START"
   ]
  },
  {
   "cell_type": "markdown",
   "metadata": {},
   "source": [
    "This section runs through the API for common tasks in machine learning. Refer to the links in each section to dive deeper."
   ]
  },
  {
   "cell_type": "markdown",
   "metadata": {},
   "source": [
    "## 1. WORKING WITH DATA\n",
    "\n",
    "PyTorch has two primitives to work with data: `torch.utils.data.DataLoader` and `torch.utils.data.Dataset`. Dataset stores the samples and their corresponding labels, and DataLoader wraps an iterable around the Dataset."
   ]
  },
  {
   "cell_type": "code",
   "execution_count": 1,
   "metadata": {},
   "outputs": [],
   "source": [
    "import torch\n",
    "from torch import nn\n",
    "from torch.utils.data import DataLoader\n",
    "from torchvision import datasets\n",
    "from torchvision.transforms import ToTensor"
   ]
  },
  {
   "cell_type": "markdown",
   "metadata": {},
   "source": [
    "PyTorch offers domain-specific libraries such as TorchText, TorchVision, and TorchAudio, all of which include datasets. For this tutorial, we will be using a TorchVision dataset."
   ]
  },
  {
   "cell_type": "markdown",
   "metadata": {},
   "source": [
    "The `torchvision.datasets` module contains Dataset objects for many real-world vision data like CIFAR, COCO (full list here). In this tutorial, we use the FashionMNIST dataset. Every TorchVision Dataset includes two arguments: transform and target_transform to modify the samples and labels respectively."
   ]
  },
  {
   "cell_type": "code",
   "execution_count": 2,
   "metadata": {},
   "outputs": [],
   "source": [
    "# Download training data from open datasets.\n",
    "training_data = datasets.FashionMNIST(\n",
    "    root=\"data\",\n",
    "    train=True,\n",
    "    download=True,\n",
    "    transform=ToTensor(),\n",
    ")\n",
    "\n",
    "# Download test data from open datasets.\n",
    "test_data = datasets.FashionMNIST(\n",
    "    root=\"data\",\n",
    "    train=False,\n",
    "    download=True,\n",
    "    transform=ToTensor(),\n",
    ")"
   ]
  },
  {
   "cell_type": "markdown",
   "metadata": {},
   "source": [
    "We pass the `Dataset` as an argument to `DataLoader`. This wraps an iterable over our dataset, and supports automatic batching, sampling, shuffling and multiprocess data loading. Here we define a batch size of 64, i.e. each element in the dataloader iterable will return a batch of 64 features and labels."
   ]
  },
  {
   "cell_type": "code",
   "execution_count": 3,
   "metadata": {},
   "outputs": [
    {
     "name": "stdout",
     "output_type": "stream",
     "text": [
      "Shape of X [N, C, H, W]: torch.Size([64, 1, 28, 28])\n",
      "Shape of y: torch.Size([64]) torch.int64\n"
     ]
    }
   ],
   "source": [
    "batch_size = 64\n",
    "\n",
    "# Create data loaders.\n",
    "train_dataloader = DataLoader(training_data, batch_size=batch_size)\n",
    "test_dataloader = DataLoader(test_data, batch_size=batch_size)\n",
    "\n",
    "for X, y in test_dataloader:\n",
    "    print(f\"Shape of X [N, C, H, W]: {X.shape}\")\n",
    "    print(f\"Shape of y: {y.shape} {y.dtype}\")\n",
    "    break"
   ]
  },
  {
   "cell_type": "markdown",
   "metadata": {},
   "source": [
    "## 2. CREATING MODELS\n",
    "To define a neural network in PyTorch, we create a class that inherits from nn.Module. We define the layers of the network in the `__init__` function and specify how data will pass through the network in the `forward` function. To accelerate operations in the neural network, we move it to the accelerator such as CUDA, MPS, MTIA, or XPU. If the current accelerator is available, we will use it. Otherwise, we use the CPU."
   ]
  },
  {
   "cell_type": "code",
   "execution_count": 4,
   "metadata": {},
   "outputs": [
    {
     "name": "stdout",
     "output_type": "stream",
     "text": [
      "Using cuda device\n",
      "NeuralNetwork(\n",
      "  (flatten): Flatten(start_dim=1, end_dim=-1)\n",
      "  (linear_relu_stack): Sequential(\n",
      "    (0): Linear(in_features=784, out_features=1024, bias=True)\n",
      "    (1): ReLU()\n",
      "    (2): Linear(in_features=1024, out_features=1024, bias=True)\n",
      "    (3): ReLU()\n",
      "    (4): Linear(in_features=1024, out_features=512, bias=True)\n",
      "    (5): ReLU()\n",
      "    (6): Linear(in_features=512, out_features=10, bias=True)\n",
      "  )\n",
      ")\n"
     ]
    }
   ],
   "source": [
    "device = torch.accelerator.current_accelerator().type if torch.accelerator.is_available() else \"cpu\"\n",
    "print(f\"Using {device} device\")\n",
    "\n",
    "# Define model\n",
    "class NeuralNetwork(nn.Module):\n",
    "    def __init__(self):\n",
    "        super().__init__()\n",
    "        self.flatten = nn.Flatten()\n",
    "        self.linear_relu_stack = nn.Sequential(\n",
    "            nn.Linear(28*28, 1024),\n",
    "            nn.ReLU(),\n",
    "            nn.Linear(1024, 1024),\n",
    "            nn.ReLU(),\n",
    "            nn.Linear(1024, 512),\n",
    "            nn.ReLU(),\n",
    "            nn.Linear(512, 10)\n",
    "        )\n",
    "\n",
    "    def forward(self, x):\n",
    "        x = self.flatten(x)\n",
    "        logits = self.linear_relu_stack(x)\n",
    "        return logits\n",
    "\n",
    "model = NeuralNetwork().to(device)\n",
    "print(model)"
   ]
  },
  {
   "cell_type": "markdown",
   "metadata": {},
   "source": [
    "## 3. OPTIMIZING THE MODEL PARAMETERS\n",
    "To train a model, we need a `loss function` and an `optimizer`."
   ]
  },
  {
   "cell_type": "code",
   "execution_count": null,
   "metadata": {},
   "outputs": [],
   "source": [
    "loss_fn = nn.CrossEntropyLoss()\n",
    "optimizer = torch.optim.SGD(model.parameters(), lr=1e-3)"
   ]
  },
  {
   "cell_type": "markdown",
   "metadata": {},
   "source": [
    "In a single training loop, the model makes predictions on the training dataset (fed to it in batches), and backpropagates the prediction error to adjust the model’s parameters."
   ]
  },
  {
   "cell_type": "code",
   "execution_count": 6,
   "metadata": {},
   "outputs": [],
   "source": [
    "def train(dataloader, model, loss_fn, optimizer):\n",
    "    size = len(dataloader.dataset)\n",
    "    model.train()\n",
    "    for batch, (X, y) in enumerate(dataloader):\n",
    "        X, y = X.to(device), y.to(device)\n",
    "\n",
    "        # Compute prediction error\n",
    "        pred = model(X)\n",
    "        loss = loss_fn(pred, y)\n",
    "\n",
    "        # Backpropagation\n",
    "        loss.backward()\n",
    "        optimizer.step()\n",
    "        optimizer.zero_grad()\n",
    "\n",
    "        if batch % 100 == 0:\n",
    "            loss, current = loss.item(), (batch + 1) * len(X)\n",
    "            print(f\"loss: {loss:>7f}  [{current:>5d}/{size:>5d}]\")"
   ]
  },
  {
   "cell_type": "markdown",
   "metadata": {},
   "source": [
    "We also check the model’s performance against the test dataset to ensure it is learning."
   ]
  },
  {
   "cell_type": "code",
   "execution_count": 7,
   "metadata": {},
   "outputs": [],
   "source": [
    "def test(dataloader, model, loss_fn):\n",
    "    size = len(dataloader.dataset)\n",
    "    num_batches = len(dataloader)\n",
    "    model.eval()\n",
    "    test_loss, correct = 0, 0\n",
    "    with torch.no_grad():\n",
    "        for X, y in dataloader:\n",
    "            X, y = X.to(device), y.to(device)\n",
    "            pred = model(X)\n",
    "            test_loss += loss_fn(pred, y).item()\n",
    "            correct += (pred.argmax(1) == y).type(torch.float).sum().item()\n",
    "    test_loss /= num_batches\n",
    "    correct /= size\n",
    "    print(f\"Test Error: \\n Accuracy: {(100*correct):>0.1f}%, Avg loss: {test_loss:>8f} \\n\")"
   ]
  },
  {
   "cell_type": "markdown",
   "metadata": {},
   "source": [
    "The training process is conducted over several iterations (epochs). During each epoch, the model learns parameters to make better predictions. We print the model’s accuracy and loss at each epoch; we’d like to see the accuracy increase and the loss decrease with every epoch."
   ]
  },
  {
   "cell_type": "code",
   "execution_count": 8,
   "metadata": {},
   "outputs": [
    {
     "name": "stdout",
     "output_type": "stream",
     "text": [
      "Epoch 1\n",
      "-------------------------------\n",
      "loss: 2.299514  [   64/60000]\n",
      "loss: 2.299763  [ 6464/60000]\n",
      "loss: 2.289213  [12864/60000]\n",
      "loss: 2.287511  [19264/60000]\n",
      "loss: 2.279296  [25664/60000]\n",
      "loss: 2.268894  [32064/60000]\n",
      "loss: 2.274976  [38464/60000]\n",
      "loss: 2.262848  [44864/60000]\n",
      "loss: 2.262604  [51264/60000]\n",
      "loss: 2.247564  [57664/60000]\n",
      "Test Error: \n",
      " Accuracy: 17.5%, Avg loss: 2.246645 \n",
      "\n",
      "Epoch 2\n",
      "-------------------------------\n",
      "loss: 2.251549  [   64/60000]\n",
      "loss: 2.254654  [ 6464/60000]\n",
      "loss: 2.230601  [12864/60000]\n",
      "loss: 2.238220  [19264/60000]\n",
      "loss: 2.225909  [25664/60000]\n",
      "loss: 2.194625  [32064/60000]\n",
      "loss: 2.216540  [38464/60000]\n",
      "loss: 2.185005  [44864/60000]\n",
      "loss: 2.190494  [51264/60000]\n",
      "loss: 2.160822  [57664/60000]\n",
      "Test Error: \n",
      " Accuracy: 33.0%, Avg loss: 2.159289 \n",
      "\n",
      "Epoch 3\n",
      "-------------------------------\n",
      "loss: 2.171237  [   64/60000]\n",
      "loss: 2.173803  [ 6464/60000]\n",
      "loss: 2.124769  [12864/60000]\n",
      "loss: 2.142716  [19264/60000]\n",
      "loss: 2.113838  [25664/60000]\n",
      "loss: 2.054126  [32064/60000]\n",
      "loss: 2.091285  [38464/60000]\n",
      "loss: 2.026526  [44864/60000]\n",
      "loss: 2.036696  [51264/60000]\n",
      "loss: 1.977033  [57664/60000]\n",
      "Test Error: \n",
      " Accuracy: 47.2%, Avg loss: 1.979241 \n",
      "\n",
      "Epoch 4\n",
      "-------------------------------\n",
      "loss: 2.009956  [   64/60000]\n",
      "loss: 1.995978  [ 6464/60000]\n",
      "loss: 1.902196  [12864/60000]\n",
      "loss: 1.930203  [19264/60000]\n",
      "loss: 1.852782  [25664/60000]\n",
      "loss: 1.789233  [32064/60000]\n",
      "loss: 1.820728  [38464/60000]\n",
      "loss: 1.720402  [44864/60000]\n",
      "loss: 1.746361  [51264/60000]\n",
      "loss: 1.640543  [57664/60000]\n",
      "Test Error: \n",
      " Accuracy: 50.4%, Avg loss: 1.652105 \n",
      "\n",
      "Epoch 5\n",
      "-------------------------------\n",
      "loss: 1.727018  [   64/60000]\n",
      "loss: 1.680316  [ 6464/60000]\n",
      "loss: 1.540519  [12864/60000]\n",
      "loss: 1.581696  [19264/60000]\n",
      "loss: 1.485892  [25664/60000]\n",
      "loss: 1.466429  [32064/60000]\n",
      "loss: 1.485366  [38464/60000]\n",
      "loss: 1.394724  [44864/60000]\n",
      "loss: 1.437368  [51264/60000]\n",
      "loss: 1.332906  [57664/60000]\n",
      "Test Error: \n",
      " Accuracy: 58.5%, Avg loss: 1.347456 \n",
      "\n",
      "Epoch 6\n",
      "-------------------------------\n",
      "loss: 1.445676  [   64/60000]\n",
      "loss: 1.406268  [ 6464/60000]\n",
      "loss: 1.246082  [12864/60000]\n",
      "loss: 1.316566  [19264/60000]\n",
      "loss: 1.228046  [25664/60000]\n",
      "loss: 1.241720  [32064/60000]\n",
      "loss: 1.267167  [38464/60000]\n",
      "loss: 1.185752  [44864/60000]\n",
      "loss: 1.231678  [51264/60000]\n",
      "loss: 1.154886  [57664/60000]\n",
      "Test Error: \n",
      " Accuracy: 61.5%, Avg loss: 1.159528 \n",
      "\n",
      "Epoch 7\n",
      "-------------------------------\n",
      "loss: 1.249465  [   64/60000]\n",
      "loss: 1.235772  [ 6464/60000]\n",
      "loss: 1.058000  [12864/60000]\n",
      "loss: 1.160949  [19264/60000]\n",
      "loss: 1.064697  [25664/60000]\n",
      "loss: 1.092331  [32064/60000]\n",
      "loss: 1.134227  [38464/60000]\n",
      "loss: 1.054623  [44864/60000]\n",
      "loss: 1.098788  [51264/60000]\n",
      "loss: 1.042948  [57664/60000]\n",
      "Test Error: \n",
      " Accuracy: 63.5%, Avg loss: 1.040514 \n",
      "\n",
      "Epoch 8\n",
      "-------------------------------\n",
      "loss: 1.115571  [   64/60000]\n",
      "loss: 1.128900  [ 6464/60000]\n",
      "loss: 0.932713  [12864/60000]\n",
      "loss: 1.059067  [19264/60000]\n",
      "loss: 0.957296  [25664/60000]\n",
      "loss: 0.984354  [32064/60000]\n",
      "loss: 1.043563  [38464/60000]\n",
      "loss: 0.968242  [44864/60000]\n",
      "loss: 1.001764  [51264/60000]\n",
      "loss: 0.965723  [57664/60000]\n",
      "Test Error: \n",
      " Accuracy: 65.2%, Avg loss: 0.958265 \n",
      "\n",
      "Epoch 9\n",
      "-------------------------------\n",
      "loss: 1.015704  [   64/60000]\n",
      "loss: 1.054400  [ 6464/60000]\n",
      "loss: 0.842803  [12864/60000]\n",
      "loss: 0.986156  [19264/60000]\n",
      "loss: 0.883616  [25664/60000]\n",
      "loss: 0.901309  [32064/60000]\n",
      "loss: 0.976807  [38464/60000]\n",
      "loss: 0.909927  [44864/60000]\n",
      "loss: 0.927207  [51264/60000]\n",
      "loss: 0.909000  [57664/60000]\n",
      "Test Error: \n",
      " Accuracy: 66.9%, Avg loss: 0.898087 \n",
      "\n",
      "Epoch 10\n",
      "-------------------------------\n",
      "loss: 0.938136  [   64/60000]\n",
      "loss: 0.997667  [ 6464/60000]\n",
      "loss: 0.774718  [12864/60000]\n",
      "loss: 0.930802  [19264/60000]\n",
      "loss: 0.831167  [25664/60000]\n",
      "loss: 0.835926  [32064/60000]\n",
      "loss: 0.925188  [38464/60000]\n",
      "loss: 0.869268  [44864/60000]\n",
      "loss: 0.869357  [51264/60000]\n",
      "loss: 0.864694  [57664/60000]\n",
      "Test Error: \n",
      " Accuracy: 68.3%, Avg loss: 0.852077 \n",
      "\n",
      "Epoch 11\n",
      "-------------------------------\n",
      "loss: 0.876086  [   64/60000]\n",
      "loss: 0.951794  [ 6464/60000]\n",
      "loss: 0.720296  [12864/60000]\n",
      "loss: 0.887368  [19264/60000]\n",
      "loss: 0.791232  [25664/60000]\n",
      "loss: 0.784279  [32064/60000]\n",
      "loss: 0.884160  [38464/60000]\n",
      "loss: 0.839428  [44864/60000]\n",
      "loss: 0.824795  [51264/60000]\n",
      "loss: 0.828625  [57664/60000]\n",
      "Test Error: \n",
      " Accuracy: 69.4%, Avg loss: 0.815623 \n",
      "\n",
      "Epoch 12\n",
      "-------------------------------\n",
      "loss: 0.824790  [   64/60000]\n",
      "loss: 0.912714  [ 6464/60000]\n",
      "loss: 0.675011  [12864/60000]\n",
      "loss: 0.852643  [19264/60000]\n",
      "loss: 0.758999  [25664/60000]\n",
      "loss: 0.743268  [32064/60000]\n",
      "loss: 0.850727  [38464/60000]\n",
      "loss: 0.816311  [44864/60000]\n",
      "loss: 0.790123  [51264/60000]\n",
      "loss: 0.798046  [57664/60000]\n",
      "Test Error: \n",
      " Accuracy: 70.7%, Avg loss: 0.785804 \n",
      "\n",
      "Epoch 13\n",
      "-------------------------------\n",
      "loss: 0.781273  [   64/60000]\n",
      "loss: 0.877879  [ 6464/60000]\n",
      "loss: 0.636422  [12864/60000]\n",
      "loss: 0.824576  [19264/60000]\n",
      "loss: 0.731668  [25664/60000]\n",
      "loss: 0.710128  [32064/60000]\n",
      "loss: 0.822489  [38464/60000]\n",
      "loss: 0.797074  [44864/60000]\n",
      "loss: 0.762880  [51264/60000]\n",
      "loss: 0.771266  [57664/60000]\n",
      "Test Error: \n",
      " Accuracy: 71.8%, Avg loss: 0.760666 \n",
      "\n",
      "Epoch 14\n",
      "-------------------------------\n",
      "loss: 0.743635  [   64/60000]\n",
      "loss: 0.845841  [ 6464/60000]\n",
      "loss: 0.603295  [12864/60000]\n",
      "loss: 0.801664  [19264/60000]\n",
      "loss: 0.708477  [25664/60000]\n",
      "loss: 0.683278  [32064/60000]\n",
      "loss: 0.797876  [38464/60000]\n",
      "loss: 0.780342  [44864/60000]\n",
      "loss: 0.741016  [51264/60000]\n",
      "loss: 0.747414  [57664/60000]\n",
      "Test Error: \n",
      " Accuracy: 73.2%, Avg loss: 0.738938 \n",
      "\n",
      "Epoch 15\n",
      "-------------------------------\n",
      "loss: 0.710763  [   64/60000]\n",
      "loss: 0.816129  [ 6464/60000]\n",
      "loss: 0.575051  [12864/60000]\n",
      "loss: 0.782277  [19264/60000]\n",
      "loss: 0.688865  [25664/60000]\n",
      "loss: 0.661163  [32064/60000]\n",
      "loss: 0.775599  [38464/60000]\n",
      "loss: 0.765033  [44864/60000]\n",
      "loss: 0.722891  [51264/60000]\n",
      "loss: 0.725962  [57664/60000]\n",
      "Test Error: \n",
      " Accuracy: 74.1%, Avg loss: 0.719630 \n",
      "\n",
      "Epoch 16\n",
      "-------------------------------\n",
      "loss: 0.681579  [   64/60000]\n",
      "loss: 0.789034  [ 6464/60000]\n",
      "loss: 0.550675  [12864/60000]\n",
      "loss: 0.765444  [19264/60000]\n",
      "loss: 0.672411  [25664/60000]\n",
      "loss: 0.642691  [32064/60000]\n",
      "loss: 0.754854  [38464/60000]\n",
      "loss: 0.750837  [44864/60000]\n",
      "loss: 0.707373  [51264/60000]\n",
      "loss: 0.706531  [57664/60000]\n",
      "Test Error: \n",
      " Accuracy: 74.8%, Avg loss: 0.702129 \n",
      "\n",
      "Epoch 17\n",
      "-------------------------------\n",
      "loss: 0.655551  [   64/60000]\n",
      "loss: 0.764440  [ 6464/60000]\n",
      "loss: 0.529320  [12864/60000]\n",
      "loss: 0.750346  [19264/60000]\n",
      "loss: 0.658664  [25664/60000]\n",
      "loss: 0.627143  [32064/60000]\n",
      "loss: 0.735293  [38464/60000]\n",
      "loss: 0.737466  [44864/60000]\n",
      "loss: 0.694007  [51264/60000]\n",
      "loss: 0.688845  [57664/60000]\n",
      "Test Error: \n",
      " Accuracy: 75.6%, Avg loss: 0.686073 \n",
      "\n",
      "Epoch 18\n",
      "-------------------------------\n",
      "loss: 0.632328  [   64/60000]\n",
      "loss: 0.742331  [ 6464/60000]\n",
      "loss: 0.510708  [12864/60000]\n",
      "loss: 0.736362  [19264/60000]\n",
      "loss: 0.647320  [25664/60000]\n",
      "loss: 0.613904  [32064/60000]\n",
      "loss: 0.716627  [38464/60000]\n",
      "loss: 0.724939  [44864/60000]\n",
      "loss: 0.682185  [51264/60000]\n",
      "loss: 0.672738  [57664/60000]\n",
      "Test Error: \n",
      " Accuracy: 76.2%, Avg loss: 0.671238 \n",
      "\n",
      "Epoch 19\n",
      "-------------------------------\n",
      "loss: 0.611557  [   64/60000]\n",
      "loss: 0.722524  [ 6464/60000]\n",
      "loss: 0.494265  [12864/60000]\n",
      "loss: 0.723320  [19264/60000]\n",
      "loss: 0.637907  [25664/60000]\n",
      "loss: 0.602508  [32064/60000]\n",
      "loss: 0.698565  [38464/60000]\n",
      "loss: 0.713358  [44864/60000]\n",
      "loss: 0.671775  [51264/60000]\n",
      "loss: 0.657716  [57664/60000]\n",
      "Test Error: \n",
      " Accuracy: 76.9%, Avg loss: 0.657477 \n",
      "\n",
      "Epoch 20\n",
      "-------------------------------\n",
      "loss: 0.592677  [   64/60000]\n",
      "loss: 0.704844  [ 6464/60000]\n",
      "loss: 0.479690  [12864/60000]\n",
      "loss: 0.711011  [19264/60000]\n",
      "loss: 0.630055  [25664/60000]\n",
      "loss: 0.592805  [32064/60000]\n",
      "loss: 0.681220  [38464/60000]\n",
      "loss: 0.702960  [44864/60000]\n",
      "loss: 0.662880  [51264/60000]\n",
      "loss: 0.644051  [57664/60000]\n",
      "Test Error: \n",
      " Accuracy: 77.4%, Avg loss: 0.644751 \n",
      "\n",
      "Done!\n"
     ]
    }
   ],
   "source": [
    "epochs = 20\n",
    "for t in range(epochs):\n",
    "    print(f\"Epoch {t+1}\\n-------------------------------\")\n",
    "    train(train_dataloader, model, loss_fn, optimizer)\n",
    "    test(test_dataloader, model, loss_fn)\n",
    "print(\"Done!\")"
   ]
  },
  {
   "cell_type": "markdown",
   "metadata": {},
   "source": [
    "## 4. SAVE MODELS\n",
    "A common way to save a model is to serialize the internal state dictionary (containing the model parameters)."
   ]
  },
  {
   "cell_type": "code",
   "execution_count": 9,
   "metadata": {},
   "outputs": [
    {
     "name": "stdout",
     "output_type": "stream",
     "text": [
      "Saved PyTorch Model State to .\\model\n"
     ]
    }
   ],
   "source": [
    "torch.save(model.state_dict(), \".\\model\")\n",
    "print(\"Saved PyTorch Model State to .\\model\")"
   ]
  },
  {
   "cell_type": "markdown",
   "metadata": {},
   "source": [
    "## 5. LOAD MODELS\n",
    "The process for loading a model includes re-creating the model structure and loading the state dictionary into it."
   ]
  },
  {
   "cell_type": "code",
   "execution_count": 10,
   "metadata": {},
   "outputs": [
    {
     "data": {
      "text/plain": [
       "<All keys matched successfully>"
      ]
     },
     "execution_count": 10,
     "metadata": {},
     "output_type": "execute_result"
    }
   ],
   "source": [
    "model = NeuralNetwork().to(device)\n",
    "model.load_state_dict(torch.load(\".\\model\", weights_only=True))"
   ]
  },
  {
   "cell_type": "markdown",
   "metadata": {},
   "source": [
    "This model can now be used to make predictions."
   ]
  },
  {
   "cell_type": "code",
   "execution_count": 11,
   "metadata": {},
   "outputs": [
    {
     "name": "stdout",
     "output_type": "stream",
     "text": [
      "Predicted: \"Ankle boot\", Actual: \"Ankle boot\"\n"
     ]
    }
   ],
   "source": [
    "classes = [\n",
    "    \"T-shirt/top\",\n",
    "    \"Trouser\",\n",
    "    \"Pullover\",\n",
    "    \"Dress\",\n",
    "    \"Coat\",\n",
    "    \"Sandal\",\n",
    "    \"Shirt\",\n",
    "    \"Sneaker\",\n",
    "    \"Bag\",\n",
    "    \"Ankle boot\",\n",
    "]\n",
    "\n",
    "model.eval()\n",
    "x, y = test_data[0][0], test_data[0][1]\n",
    "with torch.no_grad():\n",
    "    x = x.to(device)\n",
    "    pred = model(x)\n",
    "    predicted, actual = classes[pred[0].argmax(0)], classes[y]\n",
    "    print(f'Predicted: \"{predicted}\", Actual: \"{actual}\"')"
   ]
  },
  {
   "cell_type": "markdown",
   "metadata": {},
   "source": [
    "Read more about Saving & Loading your model."
   ]
  }
 ],
 "metadata": {
  "kernelspec": {
   "display_name": "Python 3",
   "language": "python",
   "name": "python3"
  },
  "language_info": {
   "codemirror_mode": {
    "name": "ipython",
    "version": 3
   },
   "file_extension": ".py",
   "mimetype": "text/x-python",
   "name": "python",
   "nbconvert_exporter": "python",
   "pygments_lexer": "ipython3",
   "version": "3.11.11"
  }
 },
 "nbformat": 4,
 "nbformat_minor": 2
}
